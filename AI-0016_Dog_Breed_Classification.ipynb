{
 "cells": [
  {
   "cell_type": "markdown",
   "metadata": {},
   "source": [
    "## ID: AI - 0016\n",
    "## Submission Date: 16 January, 2018"
   ]
  },
  {
   "cell_type": "markdown",
   "metadata": {},
   "source": [
    "## Abstract:\n",
    "A strictly canine subset of ImageNet was provided in order for us to practice fine-grained image categorization. With 120 breeds of dogs and a limited number training images per class, the problem is a challenging one. \n",
    "## Purpose of Assignment:\n",
    "   1. Pre-processing the data\n",
    "   2. Creative feature engineering and data augmentation\n",
    "   3. Building a convolutional neural network \n",
    "   4. Tuning the hyper-parameters for better result\n",
    "   5. Use transfer learning for even better results"
   ]
  },
  {
   "cell_type": "markdown",
   "metadata": {},
   "source": [
    "## Data Preprocessing:"
   ]
  },
  {
   "cell_type": "markdown",
   "metadata": {},
   "source": [
    "### Breed Folder Creation for Training Set:"
   ]
  },
  {
   "cell_type": "code",
   "execution_count": null,
   "metadata": {
    "collapsed": true
   },
   "outputs": [],
   "source": [
    "import pandas as pd\n",
    "import matplotlib.pyplot as plt\n",
    "import seaborn as sns\n",
    "from os import listdir\n",
    "from os.path import join\n",
    "import os\n",
    "import shutil\n",
    "\n",
    "data_dir = 'C:/Users/Mahtab Noor Shaan/PycharmProjects/dog_breed_recognition'\n",
    "labels = pd.read_csv(join(data_dir, 'labels.csv'))\n",
    "sample_submission = pd.read_csv(join(data_dir, 'sample_submission.csv'))\n",
    "print(len(listdir(join(data_dir, 'train'))), len(labels))\n",
    "print(len(listdir(join(data_dir, 'test'))), len(sample_submission))\n",
    "\n",
    "yy = pd.value_counts(labels['breed'])\n",
    "\n",
    "fig, ax = plt.subplots()\n",
    "fig.set_size_inches(15, 9)\n",
    "sns.set_style(\"whitegrid\")\n",
    "\n",
    "ax = sns.barplot(x = yy.index, y = yy, data = labels)\n",
    "ax.set_xticklabels(ax.get_xticklabels(), rotation = 90, fontsize = 8)\n",
    "ax.set(xlabel='Dog Breed', ylabel='Count')\n",
    "ax.set_title('Distribution of Dog breeds')\n",
    "plt.show()\n",
    "\n",
    "train_path = 'C:/Users/Mahtab Noor Shaan/PycharmProjects/dog_breed_recognition/train/'\n",
    "new_train_path = 'C:/Users/Mahtab Noor Shaan/PycharmProjects/dog_breed_recognition/new_train/'\n",
    "#--- snippet to split train images into 120 folders ---\n",
    "\n",
    "c = 0\n",
    "for i in range(len(labels)):\n",
    "    l = labels.id[i]\n",
    "    for filename in os.listdir(train_path):\n",
    "        f = filename[:-4]\n",
    "        if (l == f):\n",
    "            print(c)\n",
    "            c+=1\n",
    "            if not os.path.exists(new_train_path + labels.breed[i]):\n",
    "                os.makedirs(new_train_path + labels.breed[i])\n",
    "                shutil.copy2(train_path + filename, new_train_path + labels.breed[i])\n",
    "            else:\n",
    "                shutil.copy2(train_path + filename, new_train_path + labels.breed[i])"
   ]
  },
  {
   "cell_type": "markdown",
   "metadata": {},
   "source": [
    "### Seperating Data into Train and Validation Set:"
   ]
  },
  {
   "cell_type": "code",
   "execution_count": null,
   "metadata": {
    "collapsed": true
   },
   "outputs": [],
   "source": [
    "import numpy as np\n",
    "import os\n",
    "import shutil\n",
    "\n",
    "def split_dataset_into_test_and_train_sets(all_data_dir, training_data_dir, testing_data_dir, testing_data_pct):\n",
    "    # Recreate testing and training directories\n",
    "    if testing_data_dir.count('/') > 1:\n",
    "        shutil.rmtree(testing_data_dir, ignore_errors=False)\n",
    "        os.makedirs(testing_data_dir)\n",
    "        print(\"Successfully cleaned directory \" + testing_data_dir)\n",
    "    else:\n",
    "        print(\"Refusing to delete testing data directory \" + testing_data_dir)\n",
    "\n",
    "    if training_data_dir.count('/') > 1:\n",
    "        shutil.rmtree(training_data_dir, ignore_errors=False)\n",
    "        os.makedirs(training_data_dir)\n",
    "        print(\"Successfully cleaned directory \" + training_data_dir)\n",
    "    else:\n",
    "        print(\"Refusing to delete testing data directory \" + training_data_dir)\n",
    "\n",
    "    num_training_files = 0\n",
    "    num_testing_files = 0\n",
    "\n",
    "    for subdir, dirs, files in os.walk(all_data_dir):\n",
    "        category_name = os.path.basename(subdir)\n",
    "\n",
    "        # Don't create a subdirectory for the root directory\n",
    "        print(category_name + \" vs \" + os.path.basename(all_data_dir))\n",
    "        if category_name == os.path.basename(all_data_dir):\n",
    "            continue\n",
    "\n",
    "        training_data_category_dir = training_data_dir + '/' + category_name\n",
    "        testing_data_category_dir = testing_data_dir + '/' + category_name\n",
    "\n",
    "        if not os.path.exists(training_data_category_dir):\n",
    "            os.mkdir(training_data_category_dir)\n",
    "\n",
    "        if not os.path.exists(testing_data_category_dir):\n",
    "            os.mkdir(testing_data_category_dir)\n",
    "\n",
    "        for file in files:\n",
    "            input_file = os.path.join(subdir, file)\n",
    "            if np.random.rand(1) < testing_data_pct:\n",
    "                shutil.copy(input_file, testing_data_dir + '/' + category_name + '/' + file)\n",
    "                num_testing_files += 1\n",
    "            else:\n",
    "                shutil.copy(input_file, training_data_dir + '/' + category_name + '/' + file)\n",
    "                num_training_files += 1\n",
    "\n",
    "    print(\"Processed \" + str(num_training_files) + \" training files.\")\n",
    "    print(\"Processed \" + str(num_testing_files) + \" testing files.\")\n",
    "\n",
    "train_path = 'C:/Users/Mahtab Noor Shaan/PycharmProjects/dog_breed_recognition/new_train/'\n",
    "new_train_path = 'C:/Users/Mahtab Noor Shaan/PycharmProjects/dog_breed_recognition/new_train2/'\n",
    "new_validation_path = 'C:/Users/Mahtab Noor Shaan/PycharmProjects/dog_breed_recognition/new_validation2/'\n",
    "\n",
    "split_dataset_into_test_and_train_sets(train_path, new_train_path, new_validation_path, 0.2)"
   ]
  },
  {
   "cell_type": "code",
   "execution_count": null,
   "metadata": {},
   "outputs": [
    {
     "name": "stderr",
     "output_type": "stream",
     "text": [
      "Using TensorFlow backend.\n"
     ]
    },
    {
     "name": "stdout",
     "output_type": "stream",
     "text": [
      "There are 120 total dog categories.\n",
      "There are 10222 total dog images.\n",
      "\n",
      "There are 8153 training dog images.\n",
      "There are 2069 validation dog images.\n"
     ]
    }
   ],
   "source": [
    "from sklearn.datasets import load_files       \n",
    "from keras.utils import np_utils\n",
    "import numpy as np\n",
    "from glob import glob\n",
    "\n",
    "def load_dataset(path):\n",
    "    data = load_files(path)\n",
    "    dog_files = np.array(data['filenames'])\n",
    "    dog_targets = np_utils.to_categorical(np.array(data['target']), 120)\n",
    "    return dog_files, dog_targets\n",
    "\n",
    "train_files, train_targets = load_dataset('C:/Users/Mahtab Noor Shaan/PycharmProjects/dog_breed_recognition/new2_train')\n",
    "valid_files, valid_targets = load_dataset('C:/Users/Mahtab Noor Shaan/PycharmProjects/dog_breed_recognition/new2_validation')\n",
    "#test_files, test_targets = load_dataset('C:/Users/Mahtab Noor Shaan/PycharmProjects/dog_breed_recognition/test')\n",
    "\n",
    "dog_names = [item[20:-1] for item in sorted(glob(\"C:/Users/Mahtab Noor Shaan/PycharmProjects/dog_breed_recognition/new2_train/*/\"))]\n",
    "\n",
    "# Let's check the dataset\n",
    "print('There are %d total dog categories.' % len(dog_names))\n",
    "print('There are %s total dog images.\\n' % len(np.hstack([train_files, valid_files])))\n",
    "print('There are %d training dog images.' % len(train_files))\n",
    "print('There are %d validation dog images.' % len(valid_files))\n",
    "#print('There are %d test dog images.'% len(test_files))"
   ]
  },
  {
   "cell_type": "markdown",
   "metadata": {},
   "source": [
    "## Transfer Learning(Xception Model):"
   ]
  },
  {
   "cell_type": "code",
   "execution_count": 2,
   "metadata": {
    "collapsed": true
   },
   "outputs": [],
   "source": [
    "from keras import optimizers\n",
    "from keras.models import Sequential, Model\n",
    "from keras.layers import Dense, Dropout, Flatten\n",
    "from keras.layers import Conv2D, MaxPooling2D, BatchNormalization\n",
    "from keras.callbacks import EarlyStopping, ModelCheckpoint, ReduceLROnPlateau\n",
    "from keras.preprocessing.image import ImageDataGenerator\n",
    "from sklearn.model_selection import train_test_split\n",
    "from keras.applications import *"
   ]
  },
  {
   "cell_type": "code",
   "execution_count": 3,
   "metadata": {
    "collapsed": true
   },
   "outputs": [],
   "source": [
    "import numpy as np\n",
    "train_x_bf = np.load(open('train_x_bf_full_xception.npy', 'rb'))\n",
    "valid_x_bf = np.load(open('valid_x_bf_full_xception.npy', 'rb'))"
   ]
  },
  {
   "cell_type": "markdown",
   "metadata": {},
   "source": [
    "We use Xception model for transfer learning. Here, we only take the bottleneck features for train, validation and test set and use them as input of a 2 layer neural network for solving this problem. We didn't have much processing power, so we did not go for training layers in the convolutional network, which could have produced even better result."
   ]
  },
  {
   "cell_type": "code",
   "execution_count": 4,
   "metadata": {
    "collapsed": true
   },
   "outputs": [],
   "source": [
    "datagen = ImageDataGenerator( horizontal_flip=True)"
   ]
  },
  {
   "cell_type": "code",
   "execution_count": 5,
   "metadata": {
    "collapsed": true
   },
   "outputs": [],
   "source": [
    "epochs = 10\n",
    "learning_rate = 0.0001\n",
    "batch_size = 10\n",
    "\n",
    "callbacks = [ EarlyStopping(monitor='val_loss', patience=5, verbose=0), \n",
    "              ModelCheckpoint(filepath='weights.best.xception.hdf5', monitor='val_loss', save_best_only=True, verbose=0),\n",
    "              ReduceLROnPlateau(monitor='val_loss', factor=0.1, patience=2, verbose=0, mode='auto', epsilon=0.0001, cooldown=0, min_lr=0)]"
   ]
  },
  {
   "cell_type": "code",
   "execution_count": 6,
   "metadata": {
    "collapsed": true
   },
   "outputs": [],
   "source": [
    "model = Sequential()\n",
    "model.add(Flatten(input_shape=train_x_bf.shape[1:]))\n",
    "model.add(Dense(256, activation='relu', ))\n",
    "model.add(BatchNormalization())\n",
    "model.add(Dropout(0.5))\n",
    "model.add(Dense(120, activation='softmax'))"
   ]
  },
  {
   "cell_type": "code",
   "execution_count": 7,
   "metadata": {
    "collapsed": true
   },
   "outputs": [],
   "source": [
    "model.compile(loss='categorical_crossentropy', optimizer=optimizers.Adam(lr=learning_rate), metrics=['accuracy'])"
   ]
  },
  {
   "cell_type": "code",
   "execution_count": 8,
   "metadata": {},
   "outputs": [
    {
     "name": "stderr",
     "output_type": "stream",
     "text": [
      "C:\\Users\\Mahtab Noor Shaan\\Anaconda3\\lib\\site-packages\\keras\\preprocessing\\image.py:855: UserWarning: NumpyArrayIterator is set to use the data format convention \"channels_last\" (channels on axis 3), i.e. expected either 1, 3 or 4 channels on axis 3. However, it was passed an array with shape (8153, 7, 7, 2048) (2048 channels).\n",
      "  ' (' + str(self.x.shape[channels_axis]) + ' channels).')\n",
      "C:\\Users\\Mahtab Noor Shaan\\Anaconda3\\lib\\site-packages\\keras\\preprocessing\\image.py:855: UserWarning: NumpyArrayIterator is set to use the data format convention \"channels_last\" (channels on axis 3), i.e. expected either 1, 3 or 4 channels on axis 3. However, it was passed an array with shape (2069, 7, 7, 2048) (2048 channels).\n",
      "  ' (' + str(self.x.shape[channels_axis]) + ' channels).')\n"
     ]
    },
    {
     "name": "stdout",
     "output_type": "stream",
     "text": [
      "Epoch 1/10\n",
      " - 173s - loss: 1.8125 - acc: 0.6053 - val_loss: 0.9029 - val_acc: 0.7545\n",
      "Epoch 2/10\n",
      " - 163s - loss: 0.9533 - acc: 0.7727 - val_loss: 0.8457 - val_acc: 0.7748\n",
      "Epoch 3/10\n",
      " - 155s - loss: 0.7346 - acc: 0.8220 - val_loss: 0.8173 - val_acc: 0.7907\n",
      "Epoch 4/10\n",
      " - 153s - loss: 0.6061 - acc: 0.8532 - val_loss: 0.8290 - val_acc: 0.7709\n",
      "Epoch 5/10\n",
      " - 159s - loss: 0.4956 - acc: 0.8786 - val_loss: 0.8213 - val_acc: 0.7738\n",
      "Epoch 6/10\n",
      " - 151s - loss: 0.4144 - acc: 0.9038 - val_loss: 0.8248 - val_acc: 0.7806\n",
      "Epoch 7/10\n",
      " - 158s - loss: 0.3027 - acc: 0.9283 - val_loss: 0.7733 - val_acc: 0.7912\n",
      "Epoch 8/10\n",
      " - 157s - loss: 0.2471 - acc: 0.9472 - val_loss: 0.7633 - val_acc: 0.7989\n",
      "Epoch 9/10\n",
      " - 151s - loss: 0.2254 - acc: 0.9489 - val_loss: 0.7747 - val_acc: 0.7965\n",
      "Epoch 10/10\n",
      " - 153s - loss: 0.2035 - acc: 0.9552 - val_loss: 0.7723 - val_acc: 0.7980\n"
     ]
    }
   ],
   "source": [
    "history = model.fit_generator(datagen.flow(train_x_bf, train_targets, batch_size=batch_size),\n",
    "                    steps_per_epoch=len(train_x_bf)/batch_size, \n",
    "                    validation_data=datagen.flow(valid_x_bf, valid_targets, batch_size=batch_size), \n",
    "                    validation_steps=len(valid_x_bf)/batch_size,\n",
    "                    callbacks=callbacks,\n",
    "                    epochs=epochs, \n",
    "                    verbose=2)"
   ]
  },
  {
   "cell_type": "code",
   "execution_count": 9,
   "metadata": {
    "collapsed": true
   },
   "outputs": [],
   "source": [
    "import glob\n",
    "files = glob.glob('C:/Users/Mahtab Noor Shaan/PycharmProjects/dog_breed_recognition/test/*.jpg')"
   ]
  },
  {
   "cell_type": "code",
   "execution_count": 10,
   "metadata": {
    "collapsed": true
   },
   "outputs": [],
   "source": [
    "def path_to_tensor(img_path):\n",
    "    # loads RGB image as PIL.Image.Image type\n",
    "    img = image.load_img(img_path, target_size=(224, 224))\n",
    "    # convert PIL.Image.Image type to 3D tensor with shape (224, 224, 3)\n",
    "    x = image.img_to_array(img)\n",
    "    # convert 3D tensor to 4D tensor with shape (1, 224, 224, 3) and return 4D tensor\n",
    "    return np.expand_dims(x, axis=0)"
   ]
  },
  {
   "cell_type": "code",
   "execution_count": 11,
   "metadata": {
    "collapsed": true
   },
   "outputs": [],
   "source": [
    "from sklearn.datasets import load_files\n",
    "\n",
    "from keras import applications\n",
    "from keras.utils import np_utils\n",
    "from keras.layers import Dropout, Flatten, Dense, BatchNormalization\n",
    "from keras.models import Sequential\n",
    "from keras.callbacks import ModelCheckpoint\n",
    "from keras.preprocessing import image\n",
    "from keras.applications import xception\n",
    "\n",
    "from tqdm import tqdm\n",
    "from PIL import ImageFile\n",
    "ImageFile.LOAD_TRUNCATED_IMAGES = True\n",
    "\n",
    "import pandas as pd\n",
    "import numpy as np\n",
    "import glob\n",
    "import os"
   ]
  },
  {
   "cell_type": "code",
   "execution_count": 12,
   "metadata": {
    "collapsed": true
   },
   "outputs": [],
   "source": [
    "model1 = xception.Xception(weights='imagenet', include_top=False)"
   ]
  },
  {
   "cell_type": "code",
   "execution_count": 13,
   "metadata": {
    "collapsed": true
   },
   "outputs": [],
   "source": [
    "predicted = []\n",
    "model.load_weights('weights.best.xception.hdf5')"
   ]
  },
  {
   "cell_type": "code",
   "execution_count": 14,
   "metadata": {},
   "outputs": [
    {
     "name": "stderr",
     "output_type": "stream",
     "text": [
      "100%|██████████| 10357/10357 [20:23<00:00,  8.46it/s]\n"
     ]
    }
   ],
   "source": [
    "for img_path in tqdm(files):\n",
    "    tensors = path_to_tensor(img_path)\n",
    "    data = xception.preprocess_input(tensors)\n",
    "    bf = model1.predict(data)\n",
    "    res = model.predict(bf)\n",
    "    predicted.append(res)"
   ]
  },
  {
   "cell_type": "code",
   "execution_count": 17,
   "metadata": {},
   "outputs": [
    {
     "data": {
      "text/plain": [
       "10357"
      ]
     },
     "execution_count": 17,
     "metadata": {},
     "output_type": "execute_result"
    }
   ],
   "source": [
    "len(predicted)"
   ]
  },
  {
   "cell_type": "code",
   "execution_count": 18,
   "metadata": {
    "collapsed": true
   },
   "outputs": [],
   "source": [
    "import pandas as pd\n",
    "df_train = pd.read_csv('labels.csv')"
   ]
  },
  {
   "cell_type": "code",
   "execution_count": 19,
   "metadata": {
    "collapsed": true
   },
   "outputs": [],
   "source": [
    "targets_series = pd.Series(df_train['breed'])\n",
    "one_hot = pd.get_dummies(targets_series, sparse = True)"
   ]
  },
  {
   "cell_type": "code",
   "execution_count": 20,
   "metadata": {
    "collapsed": true
   },
   "outputs": [],
   "source": [
    "one_hot_labels = np.asarray(one_hot)"
   ]
  },
  {
   "cell_type": "code",
   "execution_count": 21,
   "metadata": {
    "collapsed": true
   },
   "outputs": [],
   "source": [
    "train_labels = np.array(pd.read_csv('labels.csv'))\n",
    "classes, counts = np.unique(train_labels[:, 1], return_counts=True)"
   ]
  },
  {
   "cell_type": "code",
   "execution_count": 22,
   "metadata": {},
   "outputs": [
    {
     "data": {
      "text/plain": [
       "1"
      ]
     },
     "execution_count": 22,
     "metadata": {},
     "output_type": "execute_result"
    }
   ],
   "source": [
    "f = open('results3.csv', 'w')\n",
    "f.write('id')\n",
    "for c in classes:\n",
    "    f.write(',' + c)\n",
    "f.write('\\n')"
   ]
  },
  {
   "cell_type": "code",
   "execution_count": 23,
   "metadata": {
    "collapsed": true
   },
   "outputs": [],
   "source": [
    "import os\n",
    "filenames = os.listdir('test')\n",
    "for [o, name] in zip(predicted, filenames):\n",
    "    f.write(name[:-4] + ',')\n",
    "    o.tofile(f, sep=',', format='%.17f')\n",
    "    f.write('\\n')\n",
    "\n",
    "f.close()"
   ]
  },
  {
   "cell_type": "code",
   "execution_count": null,
   "metadata": {},
   "outputs": [
    {
     "data": {
      "image/png": "[encoded data removed]",
      "text/plain": [
       "<matplotlib.figure.Figure at 0x2aca5379a20>"
      ]
     },
     "metadata": {},
     "output_type": "display_data"
    }
   ],
   "source": [
    "import matplotlib.pyplot as plt\n",
    "import matplotlib.image as mpimg\n",
    "import mpl_toolkits.axes_grid1\n",
    "plt.figure(figsize=(14,10))\n",
    "img=mpimg.imread('Capture.png')\n",
    "imgplot = plt.imshow(img)\n",
    "plt.show()"
   ]
  },
  {
   "cell_type": "markdown",
   "metadata": {},
   "source": [
    "## Logistic Regression:"
   ]
  },
  {
   "cell_type": "code",
   "execution_count": 2,
   "metadata": {
    "collapsed": true
   },
   "outputs": [],
   "source": [
    "from sklearn.linear_model import LogisticRegression\n",
    "from sklearn.metrics import log_loss, accuracy_score\n",
    "NUM_CLASSES = 120"
   ]
  },
  {
   "cell_type": "code",
   "execution_count": 3,
   "metadata": {
    "collapsed": true
   },
   "outputs": [],
   "source": [
    "import numpy as np\n",
    "train_x_bf = np.load(open('train_x_bf_full.npy', 'rb'))\n",
    "valid_x_bf = np.load(open('valid_x_bf_full.npy', 'rb'))"
   ]
  },
  {
   "cell_type": "code",
   "execution_count": 6,
   "metadata": {},
   "outputs": [
    {
     "name": "stdout",
     "output_type": "stream",
     "text": [
      "Validation Xception LogLoss 0.8036561805043504\n",
      "Validation Xception Accuracy 0.7883035282745288\n"
     ]
    }
   ],
   "source": [
    "logreg = LogisticRegression(multi_class='multinomial', solver='lbfgs', random_state=42)\n",
    "logreg.fit(train_x_bf, (train_targets * range(NUM_CLASSES)).sum(axis=1))\n",
    "valid_probs = logreg.predict_proba(valid_x_bf)\n",
    "valid_preds = logreg.predict(valid_x_bf)\n",
    "print('Validation Xception LogLoss {}'.format(log_loss(valid_targets, valid_probs)))\n",
    "print('Validation Xception Accuracy {}'.format(accuracy_score((valid_targets * range(NUM_CLASSES)).sum(axis=1), valid_preds)))"
   ]
  },
  {
   "cell_type": "markdown",
   "metadata": {},
   "source": [
    "## Discussion: \n",
    "We achieved a classification validation accuracy of almost 80% using bottleneck features from Xception model as input to a 2 layer neural network model. We also tried using bottleneck features from other models such as vgg16, vgg19, Resnet50. But these models had very low validation accuracy(10-15%). \n",
    "\n",
    "We could have performed even better if we could implement training deeper layers too and trained for more epochs; which was not possible due to less processing power.\n",
    "\n",
    "Also, simple machine learning algorithms like logistic regression provided better results too(Validation accuracy of 78.9%)."
   ]
  },
  {
   "cell_type": "code",
   "execution_count": null,
   "metadata": {
    "collapsed": true
   },
   "outputs": [],
   "source": []
  }
 ],
 "metadata": {
  "kernelspec": {
   "display_name": "Python 3",
   "language": "python",
   "name": "python3"
  },
  "language_info": {
   "codemirror_mode": {
    "name": "ipython",
    "version": 3
   },
   "file_extension": ".py",
   "mimetype": "text/x-python",
   "name": "python",
   "nbconvert_exporter": "python",
   "pygments_lexer": "ipython3",
   "version": "3.6.1"
  }
 },
 "nbformat": 4,
 "nbformat_minor": 2
}
